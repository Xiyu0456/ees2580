{
  "cells": [
    {
      "cell_type": "markdown",
      "metadata": {
        "id": "IUYHSwatZre0"
      },
      "source": [
        "# Python Lesson 2 Practice assignment\n"
      ]
    },
    {
      "cell_type": "markdown",
      "metadata": {
        "id": "lEhFDxa-Z3i1"
      },
      "source": [
        "1. Import the value of `pi` from the math module so that you don't have to specify the module name when you want to use the value. . Write a script to calculate the circumference of a circle with a diameter of 3. If you don't remember how to calculate circumference, Google it."
      ]
    },
    {
      "cell_type": "code",
      "execution_count": 1,
      "metadata": {
        "id": "zMKtKhCSZOYi"
      },
      "outputs": [
        {
          "name": "stdout",
          "output_type": "stream",
          "text": [
            "The circumference of a circle is 9.42477796076938\n"
          ]
        }
      ],
      "source": [
        "from math import pi\n",
        "diameter = 3\n",
        "circumference = pi * diameter\n",
        "print(f\"The circumference of a circle is {circumference}\")"
      ]
    },
    {
      "cell_type": "markdown",
      "metadata": {
        "id": "skYsCZYpaPwY"
      },
      "source": [
        "2. Modify the previous script to allow the user to input their own diameter. Don't forget that the `input()` function returns strings, not numbers."
      ]
    },
    {
      "cell_type": "code",
      "execution_count": 2,
      "metadata": {
        "id": "6xfGuuv_aStb"
      },
      "outputs": [
        {
          "name": "stdout",
          "output_type": "stream",
          "text": [
            "The circumference of a circle is 12.566370614359172\n"
          ]
        }
      ],
      "source": [
        "from math import pi\n",
        "diameter = float(input(\"Enter the diameter of a circle: \"))\n",
        "circumference = pi * diameter\n",
        "print(f\"The circumference of a circle is {circumference}\")"
      ]
    },
    {
      "cell_type": "markdown",
      "metadata": {
        "id": "BHKDQqoUaZSt"
      },
      "source": [
        "3. When describing angles, Python measures angles in radians, where 180 degrees = pi radian. That is, divide the angle in degrees by 180, then multiply by pi. Import the `cos()` function from the math module so that you don't have to specify the module name when you want to use the function. Since most people aren't familiar with radians, write a script that will allow a user to input an angle in degrees, convert the degrees to radians, then calculate the cosine of the input angle. Test your script with 45 degrees, whose cosine is 0.70710678118 ."
      ]
    },
    {
      "cell_type": "code",
      "execution_count": 3,
      "metadata": {
        "id": "cm7nfKWqazG2"
      },
      "outputs": [
        {
          "name": "stdout",
          "output_type": "stream",
          "text": [
            "The cosine of the angle is 0.6427876096865394\n"
          ]
        }
      ],
      "source": [
        "from math import pi, cos\n",
        "degrees = float(input(\"Enter the angle in degrees: \"))\n",
        "radius = degrees * pi / 180\n",
        "cosine = cos(radius)\n",
        "print(f\"The cosine of the angle is {cosine}\")"
      ]
    },
    {
      "cell_type": "markdown",
      "metadata": {
        "id": "h33-p1sqbYCC"
      },
      "source": [
        "4. Rewrite the previous script, but this time import the `radians()` function from the `math` module and nest it inside the `cos()` function to do the conversion."
      ]
    },
    {
      "cell_type": "code",
      "execution_count": 4,
      "metadata": {
        "id": "e6LTAZUucDZQ"
      },
      "outputs": [
        {
          "name": "stdout",
          "output_type": "stream",
          "text": [
            "0.7071067811865476\n"
          ]
        }
      ],
      "source": [
        "from math import cos, radians\n",
        "angle_in_degrees = 45\n",
        "cos_of_angle = cos(radians(angle_in_degrees))\n",
        "print(cos_of_angle)"
      ]
    },
    {
      "cell_type": "markdown",
      "metadata": {
        "id": "bMtFUDDEcEFF"
      },
      "source": [
        "5. **Case insensitivity**. It is often useful to check a user's input without concern for capitalization. The easiest way to do that is to convert what the user entered into all lower case, then check for equivalence with an all lower-case string. Write a script that lets the user input a string, then print the boolean result for comparing whether their string was equal to the string `sister` with any kind of capitalization."
      ]
    },
    {
      "cell_type": "code",
      "execution_count": 6,
      "metadata": {
        "id": "dHUBsIZScVqj"
      },
      "outputs": [
        {
          "name": "stdout",
          "output_type": "stream",
          "text": [
            "True\n"
          ]
        }
      ],
      "source": [
        "user_input = input(\"please enter a string: \")\n",
        "user_input_lower = user_input.lower()\n",
        "is_equal = user_input_lower == 'sister'\n",
        "print(is_equal)"
      ]
    },
    {
      "cell_type": "markdown",
      "metadata": {
        "id": "nmtkAciicXlA"
      },
      "source": [
        "6. The `time()` funtion (no arguments) from the `time` module gives the number of seconds since the midnight before January 1, 1970. Determine how long it takes the user to enter something (or just press the `Enter`/`return` key) by finding the difference in time from before the input statement and after it. (Hint: \"save\" the starting and ending times by assigning them to variables.) You can turn this into a reaction time tester by having one person click the run button and another person press the `Enter` key as soon as they see or hear the first person click the run icon. You can also see how long it takes Python to execute a code block by putting your two `time` assignment statements at the beginning and end of a code block."
      ]
    },
    {
      "cell_type": "code",
      "execution_count": 9,
      "metadata": {
        "id": "T_AF2trydJat"
      },
      "outputs": [
        {
          "name": "stdout",
          "output_type": "stream",
          "text": [
            "Your reaction time was:  7.365358114242554 seconds\n"
          ]
        }
      ],
      "source": [
        "import time\n",
        "start_time = time.time()\n",
        "input(\"PressEnter as soon as you can after running this script...\")\n",
        "end_time = time.time()\n",
        "reaction_time = end_time - start_time\n",
        "print(\"Your reaction time was: \", reaction_time, \"seconds\")"
      ]
    },
    {
      "cell_type": "markdown",
      "metadata": {},
      "source": [
        "7. Assign a URL (including the `http://` or `https://` part) to a variable, then use the `.split()` method to break the URL into pieces based on the position of `/` characters. Note: select and copy a URL from the URL bar of a browser to get the full URL. What is the index number for the list item that contains the domain name (e.g. `vanderbilt.edu` or `calendar.google.com`)? Write your answer as a comment in your code. Write an expression for the domain name, and print it."
      ]
    },
    {
      "cell_type": "code",
      "execution_count": 10,
      "metadata": {},
      "outputs": [
        {
          "name": "stdout",
          "output_type": "stream",
          "text": [
            "www.example.com\n"
          ]
        }
      ],
      "source": [
        "url = \"https://www.example.com/path/to/page\"\n",
        "url_pieces = url.split(\"/\")\n",
        "domain_name = url_pieces[2]\n",
        "print(domain_name)"
      ]
    },
    {
      "cell_type": "markdown",
      "metadata": {},
      "source": [
        "8. If you have a domain name like `vanderbilt.edu`, `www.library.vanderbilt.edu`, or `calendar.google.com`, how can you determine how many parts it has that are separated by periods (dots)? (Hint: first split it into a list.) In the code cell, use a general expression for the last part of any domain name (`com`, `edu`, `org`, etc.) to print that last part for a domain name input by the user. \n",
        "\n",
        "Edit this cell and write your answer to the question here:\n",
        "has 4 parts, and the last part is edu.\n",
        "\n",
        "Put the code you write in the following cell."
      ]
    },
    {
      "cell_type": "code",
      "execution_count": 16,
      "metadata": {},
      "outputs": [
        {
          "name": "stdout",
          "output_type": "stream",
          "text": [
            "The domain name has 4 parts and the last part is edu\n"
          ]
        }
      ],
      "source": [
        "domain_name = input(\"www.library.vanderbilt.edu \")\n",
        "domain_parts = domain_name.split('.')\n",
        "number_of_parts = len(domain_parts)\n",
        "last_part = domain_parts[-1]\n",
        "print(f\"The domain name has {number_of_parts} parts and the last part is {last_part}\")"
      ]
    },
    {
      "cell_type": "markdown",
      "metadata": {},
      "source": [
        "9. Write a script that instantiates the fruit basket list, allows a user to type in a fruit, then add the fruit they typed in to the end of the list."
      ]
    },
    {
      "cell_type": "code",
      "execution_count": 19,
      "metadata": {},
      "outputs": [
        {
          "name": "stdout",
          "output_type": "stream",
          "text": [
            "['apple', 'banana', 'cherry', 'mango']\n"
          ]
        }
      ],
      "source": [
        "fruit_input = \"mango\"\n",
        "fruit_basket = [\"apple\", \"banana\", \"cherry\"]\n",
        "\n",
        "fruit_basket.append(fruit)\n",
        "print(fruit_basket)"
      ]
    },
    {
      "cell_type": "markdown",
      "metadata": {},
      "source": [
        "10. Modify the previous script to pick a random fruit from the list, remove it from the list, tell the user that they can’t have that fruit, then print the new list without the fruit you removed."
      ]
    },
    {
      "cell_type": "code",
      "execution_count": 20,
      "metadata": {},
      "outputs": [
        {
          "name": "stdout",
          "output_type": "stream",
          "text": [
            "You can't have the mango\n",
            "['apple', 'banana', 'cherry']\n"
          ]
        }
      ],
      "source": [
        "import random\n",
        "fruit_basket = [\"apple\", \"banana\", \"cherry\"]\n",
        "fruit = input(\"mango\")\n",
        "fruit_basket.append(fruit)\n",
        "random_fruit = random.choice(fruit_basket)\n",
        "fruit_basket.remove(random_fruit)\n",
        "print(\"You can't have the\", random_fruit)\n",
        "print(fruit_basket)\n",
        "\n"
      ]
    },
    {
      "cell_type": "markdown",
      "metadata": {},
      "source": [
        "11. The file [mesa_prcp_by_month.](https://github.com/HeardLibrary/digital-scholarship/blob/master/data/codegraf/mesa_prcp_by_month.txt) contains the average precipitation by month in mm for Mesa, Arizona, with each value on a separate line terminated by a newline character. Use the `get()` function from the requests module to retrieve the data and extract the text into a variable containing a single text string. Split the string by newline (`\\n`) characters into a list that contains each value. Non-rhetorical question: Can you use the `max()` function to determine the number in the list? If so, do it in your script. If not, explain why in a comment in the script. The URL to access the data is in the starter code below."
      ]
    },
    {
      "cell_type": "code",
      "execution_count": 22,
      "metadata": {},
      "outputs": [
        {
          "name": "stdout",
          "output_type": "stream",
          "text": [
            "The maximum value is 8.6\n",
            "Cannot determine the maximum value because the values are strings, not numbers.\n",
            "The maximum value is 29.2\n"
          ]
        }
      ],
      "source": [
        "import requests\n",
        "url = 'https://raw.githubusercontent.com/HeardLibrary/digital-scholarship/master/data/codegraf/mesa_prcp_by_month.txt'\n",
        "response = requests.get(url)\n",
        "data = response.text\n",
        "values = data.split('\\n')\n",
        "max_value = max(values)\n",
        "print(\"The maximum value is\", max_value)\n",
        "print(\"Cannot determine the maximum value because the values are strings, not numbers.\")\n",
        "values = [float(value) for value in values]\n",
        "max_value = max(values)\n",
        "print(\"The maximum value is\", max_value)"
      ]
    }
  ],
  "metadata": {
    "colab": {
      "provenance": []
    },
    "kernelspec": {
      "display_name": "Python 3",
      "name": "python3"
    },
    "language_info": {
      "codemirror_mode": {
        "name": "ipython",
        "version": 3
      },
      "file_extension": ".py",
      "mimetype": "text/x-python",
      "name": "python",
      "nbconvert_exporter": "python",
      "pygments_lexer": "ipython3",
      "version": "3.12.2"
    }
  },
  "nbformat": 4,
  "nbformat_minor": 0
}
