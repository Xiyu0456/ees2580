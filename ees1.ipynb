{
  "cells": [
    {
      "cell_type": "markdown",
      "metadata": {
        "id": "-CtqNXAIMs88"
      },
      "source": [
        "# Assignment\n",
        "\n",
        "The `=` sign is used to assign objects to variables in Python. In Jupyter notebooks and the shell, variable name on a line by itself displays the value of that variable. In a Jupyter notebook running in VS Code, to clear the output of cells, select `Clear All Outputs` from the options at the top of the notebook."
      ]
    },
    {
      "cell_type": "code",
      "execution_count": 1,
      "metadata": {
        "id": "bUVideMJMs89"
      },
      "outputs": [
        {
          "data": {
            "text/plain": [
              "'Wilma'"
            ]
          },
          "execution_count": 1,
          "metadata": {},
          "output_type": "execute_result"
        }
      ],
      "source": [
        "character_name = 'Wilma'\n",
        "\n",
        "character_name"
      ]
    },
    {
      "cell_type": "code",
      "execution_count": 2,
      "metadata": {
        "id": "o3I14_MXMs9A"
      },
      "outputs": [
        {
          "data": {
            "text/plain": [
              "12.3"
            ]
          },
          "execution_count": 2,
          "metadata": {},
          "output_type": "execute_result"
        }
      ],
      "source": [
        "input_voltage = 12.3\n",
        "\n",
        "input_voltage"
      ]
    },
    {
      "cell_type": "code",
      "execution_count": 3,
      "metadata": {
        "id": "r8S70025Ms9D"
      },
      "outputs": [
        {
          "data": {
            "text/plain": [
              "False"
            ]
          },
          "execution_count": 3,
          "metadata": {},
          "output_type": "execute_result"
        }
      ],
      "source": [
        "matched = False\n",
        "\n",
        "matched"
      ]
    },
    {
      "cell_type": "markdown",
      "metadata": {
        "id": "KOWAGAZOMs9F"
      },
      "source": [
        "Generally spacing between operators and variable names is not important. It is conventional to leave a space between operators and variables.\n",
        "\n",
        "However, indentation level at the left of a line is critical. (More on that later.)\n",
        "\n",
        "Either double quotes `\"` or single quotes `'` can be used to define literal strings, but single quotes are conventional in Python.\n",
        "\n",
        "Blank lines are ignored and can be used to improve readability.\n",
        "\n",
        "Conventional style guidelines for Python are given in the [PEP 8 style guide](https://www.python.org/dev/peps/pep-0008/)"
      ]
    },
    {
      "cell_type": "code",
      "execution_count": 7,
      "metadata": {
        "id": "I_m3s-mCMs9G"
      },
      "outputs": [
        {
          "data": {
            "text/plain": [
              "'Wilma'"
            ]
          },
          "execution_count": 7,
          "metadata": {},
          "output_type": "execute_result"
        }
      ],
      "source": [
        "character_name = 'Wilma'\n",
        "\n",
        "character_name"
      ]
    },
    {
      "cell_type": "code",
      "execution_count": 5,
      "metadata": {
        "id": "mm_mzLQkMs9I"
      },
      "outputs": [
        {
          "data": {
            "text/plain": [
              "'Wilma'"
            ]
          },
          "execution_count": 5,
          "metadata": {},
          "output_type": "execute_result"
        }
      ],
      "source": [
        "character_name='Wilma'\n",
        "\n",
        "character_name"
      ]
    },
    {
      "cell_type": "code",
      "execution_count": 6,
      "metadata": {
        "id": "wqM-mlVZMs9M"
      },
      "outputs": [
        {
          "data": {
            "text/plain": [
              "'Wilma'"
            ]
          },
          "execution_count": 6,
          "metadata": {},
          "output_type": "execute_result"
        }
      ],
      "source": [
        "character_name    =    \"Wilma\"\n",
        "character_name"
      ]
    },
    {
      "cell_type": "markdown",
      "metadata": {
        "id": "cS-fD1ZtMs9O"
      },
      "source": [
        "# Built-in functions\n",
        "\n",
        "Common built-in functions are `print()` and `input()`."
      ]
    },
    {
      "cell_type": "code",
      "execution_count": 8,
      "metadata": {
        "id": "qmfFZc1TMs9P"
      },
      "outputs": [
        {
          "name": "stdout",
          "output_type": "stream",
          "text": [
            "Wilma\n",
            "\n",
            "Fred\n"
          ]
        }
      ],
      "source": [
        "# The argument passed into the print() function is printed to the display.\n",
        "# There is no return value\n",
        "\n",
        "print(character_name) # pass in a variable\n",
        "print() # pass in nothing\n",
        "print('Fred') # pass in a literal"
      ]
    },
    {
      "cell_type": "code",
      "execution_count": 9,
      "metadata": {
        "id": "_3AqffsiMs9R"
      },
      "outputs": [
        {
          "name": "stdout",
          "output_type": "stream",
          "text": [
            "Fred Flintstone\n"
          ]
        }
      ],
      "source": [
        "# The argument passed into the input() function is the prompt to the user.\n",
        "# The return value is the string entered by the user from the keyboard.\n",
        "my_character = input('What is the name of the character? ')\n",
        "\n",
        "print(my_character)"
      ]
    },
    {
      "cell_type": "markdown",
      "metadata": {},
      "source": [
        "## Practice\n",
        "\n",
        "In the cell below, write a statement that uses the `input` function to prompt the user to enter their phone number. Assign the returned value to an appropriately named variable that uses snake_case. Pass that variable as an argument into the `print` function to display what they entered."
      ]
    },
    {
      "cell_type": "code",
      "execution_count": 12,
      "metadata": {},
      "outputs": [
        {
          "name": "stdout",
          "output_type": "stream",
          "text": [
            "your number is 234567\n"
          ]
        }
      ],
      "source": [
        "# prompt the user for their phone number \n",
        "phone_number = input('What is your phone number? ')\n",
        "\n",
        "# print the phone number\n",
        "print(\"your number is\",phone_number)\n",
        "      \n",
        "\n",
        "\n"
      ]
    },
    {
      "cell_type": "markdown",
      "metadata": {
        "id": "ptszSxwuMs9T"
      },
      "source": [
        "## Object types\n",
        "\n",
        "At this point we are interested in three types of objects: *string*, *number*, and *boolean*."
      ]
    },
    {
      "cell_type": "code",
      "execution_count": 13,
      "metadata": {
        "id": "a3wi7xm8Ms9U"
      },
      "outputs": [
        {
          "name": "stdout",
          "output_type": "stream",
          "text": [
            "<class 'str'>\n"
          ]
        }
      ],
      "source": [
        "# The argument passed into the type function is the object whose type you want to know.\n",
        "# The return value is the type of the object.\n",
        "\n",
        "# The output can be assigned to a variable.\n",
        "the_type = type(\"a word\")\n",
        "print(the_type)"
      ]
    },
    {
      "cell_type": "code",
      "execution_count": 17,
      "metadata": {
        "id": "iSnbMW-dMs9W"
      },
      "outputs": [
        {
          "name": "stdout",
          "output_type": "stream",
          "text": [
            "<class 'str'>\n"
          ]
        }
      ],
      "source": [
        "# A function can be nested inside another function\n",
        "print(type('True'))"
      ]
    },
    {
      "cell_type": "code",
      "execution_count": 15,
      "metadata": {
        "id": "IFF56ZcuMs9Z"
      },
      "outputs": [
        {
          "name": "stdout",
          "output_type": "stream",
          "text": [
            "<class 'int'>\n",
            "<class 'float'>\n"
          ]
        }
      ],
      "source": [
        "# Numbers can be of several types\n",
        "print(type(3))\n",
        "print(type(4.6))"
      ]
    },
    {
      "cell_type": "code",
      "execution_count": null,
      "metadata": {
        "id": "5egbj9GCMs9b"
      },
      "outputs": [],
      "source": [
        "# Either literal values or variables can be passed into a function\n",
        "\n",
        "# Check the type of variables defined before\n",
        "print(type(character_name))\n",
        "print(type(input_voltage))\n",
        "print(type(matched))"
      ]
    },
    {
      "cell_type": "code",
      "execution_count": 20,
      "metadata": {
        "id": "lxpTtYdHMs9e"
      },
      "outputs": [
        {
          "name": "stdout",
          "output_type": "stream",
          "text": [
            "ture\n",
            "<class 'str'>\n"
          ]
        }
      ],
      "source": [
        "# What is the type of the output of the input() function?\n",
        "answer = input(\"Input a string or number: \")\n",
        "print(answer)\n",
        "print(type(answer))"
      ]
    },
    {
      "cell_type": "code",
      "execution_count": 21,
      "metadata": {
        "id": "Gp23rpBcMs9g"
      },
      "outputs": [
        {
          "name": "stdout",
          "output_type": "stream",
          "text": [
            "<class 'str'>\n",
            "<class 'int'>\n",
            "<class 'bool'>\n"
          ]
        }
      ],
      "source": [
        "# Variables don't have a fixed type.\n",
        "# Their type is determined by the class of the object you put into them.\n",
        "a_variable = \"word\"\n",
        "print(type(a_variable))\n",
        "\n",
        "a_variable = 45\n",
        "print(type(a_variable))\n",
        "\n",
        "a_variable = True\n",
        "print(type(a_variable))"
      ]
    },
    {
      "cell_type": "markdown",
      "metadata": {
        "id": "SdpDcqFjMs9i"
      },
      "source": [
        "Functions have different requirements for their arguments."
      ]
    },
    {
      "cell_type": "code",
      "execution_count": 24,
      "metadata": {
        "id": "6I66op7JMs9j"
      },
      "outputs": [
        {
          "name": "stdout",
          "output_type": "stream",
          "text": [
            "5\n",
            "256\n"
          ]
        },
        {
          "ename": "TypeError",
          "evalue": "max expected at least 1 argument, got 0",
          "output_type": "error",
          "traceback": [
            "\u001b[0;31m---------------------------------------------------------------------------\u001b[0m",
            "\u001b[0;31mTypeError\u001b[0m                                 Traceback (most recent call last)",
            "Cell \u001b[0;32mIn[24], line 3\u001b[0m\n\u001b[1;32m      1\u001b[0m \u001b[38;5;28mprint\u001b[39m(\u001b[38;5;28mmax\u001b[39m(\u001b[38;5;241m1\u001b[39m, \u001b[38;5;241m5\u001b[39m, \u001b[38;5;241m2\u001b[39m))\n\u001b[1;32m      2\u001b[0m \u001b[38;5;28mprint\u001b[39m(\u001b[38;5;28mmax\u001b[39m(\u001b[38;5;241m3\u001b[39m, \u001b[38;5;241m6\u001b[39m, \u001b[38;5;241m14\u001b[39m, \u001b[38;5;241m1\u001b[39m, \u001b[38;5;241m256\u001b[39m, \u001b[38;5;241m34\u001b[39m))\n\u001b[0;32m----> 3\u001b[0m \u001b[38;5;28mprint\u001b[39m(\u001b[38;5;28;43mmax\u001b[39;49m\u001b[43m(\u001b[49m\u001b[43m)\u001b[49m)\n",
            "\u001b[0;31mTypeError\u001b[0m: max expected at least 1 argument, got 0"
          ]
        }
      ],
      "source": [
        "print(max(1, 5, 2))\n",
        "print(max(3, 6, 14, 1, 256, 34))\n",
        "print(max())"
      ]
    },
    {
      "cell_type": "code",
      "execution_count": 25,
      "metadata": {
        "id": "pY-8roK5Ms9o"
      },
      "outputs": [
        {
          "name": "stdout",
          "output_type": "stream",
          "text": [
            "3\n",
            "8\n",
            "0\n"
          ]
        },
        {
          "ename": "TypeError",
          "evalue": "object of type 'int' has no len()",
          "output_type": "error",
          "traceback": [
            "\u001b[0;31m---------------------------------------------------------------------------\u001b[0m",
            "\u001b[0;31mTypeError\u001b[0m                                 Traceback (most recent call last)",
            "Cell \u001b[0;32mIn[25], line 5\u001b[0m\n\u001b[1;32m      3\u001b[0m \u001b[38;5;66;03m# '' is called the empty string\u001b[39;00m\n\u001b[1;32m      4\u001b[0m \u001b[38;5;28mprint\u001b[39m(\u001b[38;5;28mlen\u001b[39m(\u001b[38;5;124m'\u001b[39m\u001b[38;5;124m'\u001b[39m))\n\u001b[0;32m----> 5\u001b[0m \u001b[38;5;28mprint\u001b[39m(\u001b[38;5;28;43mlen\u001b[39;49m\u001b[43m(\u001b[49m\u001b[38;5;241;43m42\u001b[39;49m\u001b[43m)\u001b[49m)\n",
            "\u001b[0;31mTypeError\u001b[0m: object of type 'int' has no len()"
          ]
        }
      ],
      "source": [
        "print(len('dog'))\n",
        "print(len('aardvark'))\n",
        "# '' is called the empty string\n",
        "print(len(''))\n",
        "print(len(42))"
      ]
    },
    {
      "cell_type": "code",
      "execution_count": 26,
      "metadata": {
        "id": "j5O3pUdAMs9r"
      },
      "outputs": [
        {
          "name": "stdout",
          "output_type": "stream",
          "text": [
            "42\n",
            "<class 'str'>\n",
            "42\n",
            "<class 'int'>\n"
          ]
        }
      ],
      "source": [
        "# We may be able to turn one kind of object into another.\n",
        "a_string = '42'\n",
        "print(a_string)\n",
        "print(type(a_string))\n",
        "a_number = int(a_string)\n",
        "print(a_number)\n",
        "print(type(a_number))"
      ]
    },
    {
      "cell_type": "code",
      "execution_count": 27,
      "metadata": {
        "id": "EnLwIoFWMs9t"
      },
      "outputs": [
        {
          "name": "stdout",
          "output_type": "stream",
          "text": [
            "Here is your number, plus 2: 12\n"
          ]
        }
      ],
      "source": [
        "response = input('What is your number? ')\n",
        "number = int(response)\n",
        "# You can print several arguments by separating them by commas\n",
        "print('Here is your number, plus 2:', number + 2)"
      ]
    },
    {
      "cell_type": "markdown",
      "metadata": {},
      "source": [
        "## Practice\n",
        "\n",
        "In the first code cells below, assign `'True'` as a literal string to an appropriately named varible. Pass this variable as the argument of the `type` function to verify its type. (You don't need to use the print statement if you put the type function as the last line of the cell. Its value will automatically be displayed.)\n",
        "\n",
        "Then in the second code cell, assign `True` as a boolean to a differently named variable. Pass it into the `type` function and display the resulting returned value.\n",
        "\n",
        "In Colab, open the `Variables` explorer on the upper left (click on `{x}`). In VS Code, click on the `Variables` item at the top of the screen. Verify your results. NOTE: if the explorer is too cluttered, you can clear the environment in Colab by resetting the Runtime. From the `Runtime` menu, select `Reset runtime`. In VS Code, click `Restart` at the top of the page."
      ]
    },
    {
      "cell_type": "code",
      "execution_count": 29,
      "metadata": {},
      "outputs": [
        {
          "data": {
            "text/plain": [
              "str"
            ]
          },
          "execution_count": 29,
          "metadata": {},
          "output_type": "execute_result"
        }
      ],
      "source": [
        "string = 'True'\n",
        "type(string)"
      ]
    },
    {
      "cell_type": "code",
      "execution_count": 30,
      "metadata": {},
      "outputs": [
        {
          "name": "stdout",
          "output_type": "stream",
          "text": [
            "<class 'bool'>\n"
          ]
        }
      ],
      "source": [
        "true_boolean = True\n",
        "print(type(true_boolean))"
      ]
    },
    {
      "cell_type": "markdown",
      "metadata": {
        "id": "QIXpgloeMs9w"
      },
      "source": [
        "# Operations\n",
        "\n",
        "Operations can be performed on objects before they are assigned to a variable.\n",
        "\n",
        "Common math operations are `+`, `-`, `*`, and `/`."
      ]
    },
    {
      "cell_type": "code",
      "execution_count": 31,
      "metadata": {
        "id": "1gothMbTMs9w"
      },
      "outputs": [
        {
          "name": "stdout",
          "output_type": "stream",
          "text": [
            "4\n"
          ]
        }
      ],
      "source": [
        "number_widgets = 1\n",
        "answer = number_widgets + 3\n",
        "print(answer)"
      ]
    },
    {
      "cell_type": "markdown",
      "metadata": {
        "id": "fCvn_dWHMs9y"
      },
      "source": [
        "How do these two scripts differ? (Pay attention to the quotes)"
      ]
    },
    {
      "cell_type": "code",
      "execution_count": 32,
      "metadata": {
        "id": "qmQNt8pFMs9z"
      },
      "outputs": [
        {
          "name": "stdout",
          "output_type": "stream",
          "text": [
            "470\n",
            "<class 'int'>\n"
          ]
        }
      ],
      "source": [
        "first_number = 325\n",
        "second_number = 145\n",
        "together = first_number + second_number\n",
        "print(together)\n",
        "print(type(together))"
      ]
    },
    {
      "cell_type": "code",
      "execution_count": 33,
      "metadata": {
        "id": "2cWqgA4hMs90"
      },
      "outputs": [
        {
          "name": "stdout",
          "output_type": "stream",
          "text": [
            "325145\n",
            "<class 'str'>\n"
          ]
        }
      ],
      "source": [
        "first_number = '325'\n",
        "second_number = '145'\n",
        "together = first_number + second_number\n",
        "print(together)\n",
        "print(type(together))"
      ]
    },
    {
      "cell_type": "markdown",
      "metadata": {
        "id": "82a-XrDKMs92"
      },
      "source": [
        "The `+` operator does concatenation when used with strings.\n",
        "\n",
        "Common boolean operations are `==`, `!=`, `>`, `<`, `>=`, and `<=`."
      ]
    },
    {
      "cell_type": "code",
      "execution_count": 34,
      "metadata": {
        "id": "SQKjvjeOMs92"
      },
      "outputs": [
        {
          "name": "stdout",
          "output_type": "stream",
          "text": [
            "False\n"
          ]
        }
      ],
      "source": [
        "print('dog' == 'cat')"
      ]
    },
    {
      "cell_type": "code",
      "execution_count": 35,
      "metadata": {
        "id": "9JFFrfOsMs94"
      },
      "outputs": [
        {
          "name": "stdout",
          "output_type": "stream",
          "text": [
            "True\n"
          ]
        }
      ],
      "source": [
        "print('cat' == 'cat')"
      ]
    },
    {
      "cell_type": "code",
      "execution_count": 36,
      "metadata": {
        "id": "g_B7EejOMs96"
      },
      "outputs": [
        {
          "name": "stdout",
          "output_type": "stream",
          "text": [
            "True\n"
          ]
        }
      ],
      "source": [
        "print('dog' != 'cat')"
      ]
    },
    {
      "cell_type": "code",
      "execution_count": 37,
      "metadata": {
        "id": "W5SV0mYyMs9-"
      },
      "outputs": [
        {
          "name": "stdout",
          "output_type": "stream",
          "text": [
            "True\n"
          ]
        }
      ],
      "source": [
        "print(3 > 2)"
      ]
    },
    {
      "cell_type": "code",
      "execution_count": 38,
      "metadata": {
        "id": "3FodFdBEMs9_"
      },
      "outputs": [
        {
          "name": "stdout",
          "output_type": "stream",
          "text": [
            "False\n"
          ]
        }
      ],
      "source": [
        "print(2 > 2)"
      ]
    },
    {
      "cell_type": "code",
      "execution_count": 39,
      "metadata": {
        "id": "pQ42yN5WMs-B"
      },
      "outputs": [
        {
          "name": "stdout",
          "output_type": "stream",
          "text": [
            "True\n"
          ]
        }
      ],
      "source": [
        "print(2 >= 2)"
      ]
    },
    {
      "cell_type": "markdown",
      "metadata": {
        "id": "jZOPNHvxMs-D"
      },
      "source": [
        "Booleans can be assigned to variables like any other kind of object."
      ]
    },
    {
      "cell_type": "code",
      "execution_count": 40,
      "metadata": {
        "id": "VPlX-CH0Ms-D"
      },
      "outputs": [
        {
          "name": "stdout",
          "output_type": "stream",
          "text": [
            "False\n"
          ]
        }
      ],
      "source": [
        "# Notice that one `=` is the assignment operator and two `==` is the equivalence operator.\n",
        "same_animal = 'cat' == 'monkey'\n",
        "print(same_animal)"
      ]
    },
    {
      "cell_type": "code",
      "execution_count": 41,
      "metadata": {
        "id": "j-YM6RHUMs-G"
      },
      "outputs": [
        {
          "name": "stdout",
          "output_type": "stream",
          "text": [
            "First animal the same as second animal? False\n"
          ]
        }
      ],
      "source": [
        "first_animal = input('What is your first animal? ')\n",
        "second_animal = input('What is your second animal? ')\n",
        "same_animal = first_animal == second_animal\n",
        "print('First animal the same as second animal?', same_animal)"
      ]
    },
    {
      "cell_type": "markdown",
      "metadata": {},
      "source": [
        "## Practice\n",
        "\n",
        "In the cell below, assign the area code `'615'` as a string to the variable `area_code`. Use the `input` function to ask the user to enter their phone number and store the returned value in a variable called `local_number`. Concatenate `area_code`, a dash (`-`), and `local_number` and assign the result to the variable `phone_number`. Use the `print` function to display the result, using two arguments: the literal string `'Your phone number is:'` and the variable `phone_number`."
      ]
    },
    {
      "cell_type": "code",
      "execution_count": 42,
      "metadata": {},
      "outputs": [
        {
          "name": "stdout",
          "output_type": "stream",
          "text": [
            "your phone number is: 615-6155789717\n"
          ]
        }
      ],
      "source": [
        "area_code = '615'\n",
        "Local_number = input('what is your phone number?')\n",
        "phone_number = area_code + '-' + Local_number\n",
        "print('your phone number is:', phone_number)\n"
      ]
    },
    {
      "cell_type": "markdown",
      "metadata": {
        "id": "on8Ok4HLMs-H"
      },
      "source": [
        "# Optional practice with video help.\n",
        "\n",
        "Predict and explain what these scripts do before you try running them."
      ]
    },
    {
      "cell_type": "code",
      "execution_count": null,
      "metadata": {
        "id": "0v-Bed7gMs-I"
      },
      "outputs": [],
      "source": [
        "name = input(\"What's your name? \")\n",
        "print('Hello ' + name + '! How are you?')"
      ]
    },
    {
      "cell_type": "code",
      "execution_count": null,
      "metadata": {
        "id": "MzylVyg0Ms-K"
      },
      "outputs": [],
      "source": [
        "first_number = float(input('What is your number? '))\n",
        "second_number = 67.\n",
        "biggest = max(first_number, second_number, 100.)\n",
        "print(biggest)"
      ]
    },
    {
      "cell_type": "code",
      "execution_count": null,
      "metadata": {
        "id": "EtEJN2AFMs-L"
      },
      "outputs": [],
      "source": [
        "name = input('What is your name? ')\n",
        "how_long = len(name)\n",
        "print('Your name is '+ name + '. It is: ')\n",
        "print(how_long)\n",
        "print('characters long.')"
      ]
    },
    {
      "cell_type": "code",
      "execution_count": null,
      "metadata": {
        "id": "gPtzDKrzMs-N"
      },
      "outputs": [],
      "source": [
        "a_number = 16\n",
        "a_number = a_number + 1\n",
        "print(a_number)"
      ]
    },
    {
      "cell_type": "code",
      "execution_count": null,
      "metadata": {
        "id": "-rmSAJfWMs-P"
      },
      "outputs": [],
      "source": [
        "number_widgets = int(input('How many widgets? '))\n",
        "sum = number_widgets + 3\n",
        "too_many = sum > 10\n",
        "print(too_many)"
      ]
    },
    {
      "cell_type": "code",
      "execution_count": null,
      "metadata": {
        "id": "x_sPQ7xtMs-R"
      },
      "outputs": [],
      "source": []
    }
  ],
  "metadata": {
    "colab": {
      "provenance": []
    },
    "kernelspec": {
      "display_name": "Python 3",
      "language": "python",
      "name": "python3"
    },
    "language_info": {
      "codemirror_mode": {
        "name": "ipython",
        "version": 3
      },
      "file_extension": ".py",
      "mimetype": "text/x-python",
      "name": "python",
      "nbconvert_exporter": "python",
      "pygments_lexer": "ipython3",
      "version": "3.12.2"
    }
  },
  "nbformat": 4,
  "nbformat_minor": 0
}
